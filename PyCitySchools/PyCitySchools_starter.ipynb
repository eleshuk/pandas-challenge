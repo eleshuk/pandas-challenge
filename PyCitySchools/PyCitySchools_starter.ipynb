{
 "cells": [
  {
   "cell_type": "markdown",
   "metadata": {},
   "source": [
    "### Note\n",
    "* Instructions have been included for each segment. You do not have to follow them exactly, but they are included to help you think through the steps."
   ]
  },
  {
   "cell_type": "code",
   "execution_count": 2,
   "metadata": {},
   "outputs": [],
   "source": [
    "# Dependencies and Setup\n",
    "import pandas as pd\n",
    "\n",
    "# File to Load (Remember to Change These)\n",
    "school_data_to_load = \"Resources/schools_complete.csv\"\n",
    "student_data_to_load = \"Resources/students_complete.csv\"\n",
    "\n",
    "# Read School and Student Data File and store into Pandas DataFrames\n",
    "school_data = pd.read_csv(school_data_to_load)\n",
    "student_data = pd.read_csv(student_data_to_load)\n",
    "\n",
    "# Combine the data into a single dataset.  \n",
    "school_data_complete = pd.merge(student_data, school_data, how=\"left\", on=[\"school_name\", \"school_name\"])\n",
    "complete_df = school_data_complete\n",
    "\n",
    "# school_data.head()\n",
    "# student_data.head()\n",
    "# complete_df.head()"
   ]
  },
  {
   "cell_type": "markdown",
   "metadata": {},
   "source": [
    "## District Summary\n",
    "\n",
    "* Calculate the total number of schools\n",
    "\n",
    "* Calculate the total number of students\n",
    "\n",
    "* Calculate the total budget\n",
    "\n",
    "* Calculate the average math score \n",
    "\n",
    "* Calculate the average reading score\n",
    "\n",
    "* Calculate the percentage of students with a passing math score (70 or greater)\n",
    "\n",
    "* Calculate the percentage of students with a passing reading score (70 or greater)\n",
    "\n",
    "* Calculate the percentage of students who passed math **and** reading (% Overall Passing)\n",
    "\n",
    "* Create a dataframe to hold the above results\n",
    "\n",
    "* Optional: give the displayed data cleaner formatting"
   ]
  },
  {
   "cell_type": "code",
   "execution_count": 3,
   "metadata": {},
   "outputs": [],
   "source": [
    "# calculate total number of schools\n",
    "school_count = complete_df['school_name'].value_counts()\n",
    "total_schools = len(school_count)"
   ]
  },
  {
   "cell_type": "code",
   "execution_count": 4,
   "metadata": {},
   "outputs": [],
   "source": [
    "# calculate total number of students -- use complete \n",
    "student_count = complete_df['student_name'].count()"
   ]
  },
  {
   "cell_type": "code",
   "execution_count": 5,
   "metadata": {},
   "outputs": [],
   "source": [
    "# calculate total district budget -- use school_data\n",
    "district_budget = school_data['budget'].sum()"
   ]
  },
  {
   "cell_type": "code",
   "execution_count": 6,
   "metadata": {},
   "outputs": [],
   "source": [
    "# calculate average math score \n",
    "district_avg_math = complete_df['math_score'].mean()"
   ]
  },
  {
   "cell_type": "code",
   "execution_count": 7,
   "metadata": {},
   "outputs": [],
   "source": [
    "# calculate average reading score\n",
    "district_avg_read = complete_df['reading_score'].mean()"
   ]
  },
  {
   "cell_type": "code",
   "execution_count": 8,
   "metadata": {},
   "outputs": [],
   "source": [
    "# Calculate the percentage of students with a passing math score (70 or greater)\n",
    "passing_math = complete_df.loc[complete_df['math_score'] >= 70]['math_score'].count()\n",
    "percent_passing_math = (passing_math/student_count)*100"
   ]
  },
  {
   "cell_type": "code",
   "execution_count": 9,
   "metadata": {},
   "outputs": [],
   "source": [
    "# Calculate the percentage of students with a passing reading score (70 or greater)\n",
    "passing_read = complete_df.loc[complete_df['reading_score'] >= 70]['reading_score'].count()\n",
    "percent_passing_read = (passing_read/student_count)*100"
   ]
  },
  {
   "cell_type": "code",
   "execution_count": 10,
   "metadata": {},
   "outputs": [],
   "source": [
    "# Calculate the percentage of students who passed math and reading (% Overall Passing)\n",
    "total_passing = complete_df.loc[(complete_df['reading_score'] >= 70) & (complete_df['math_score'] >= 70)]['student_name'].count()\n",
    "total_pass_percent = (total_passing/student_count)*100"
   ]
  },
  {
   "cell_type": "code",
   "execution_count": 11,
   "metadata": {},
   "outputs": [],
   "source": [
    "# Create a dataframe to hold the above results\n",
    "district_sum= pd.DataFrame({\n",
    "    \"Total Schools\": [total_schools], \n",
    "    \"Total Students\": [student_count], \n",
    "    \"Total Budget\": [district_budget], \n",
    "    \"Average Math Score\": [district_avg_math], \n",
    "    \"Average Reading Score\": [district_avg_read], \n",
    "    \"% Passing Math\": [percent_passing_math], \n",
    "    \"% Passing Read\": [percent_passing_read], \n",
    "    \"% Overall Passing\": [total_pass_percent]\n",
    "})"
   ]
  },
  {
   "cell_type": "code",
   "execution_count": 12,
   "metadata": {},
   "outputs": [
    {
     "data": {
      "text/html": [
       "<style  type=\"text/css\" >\n",
       "</style><table id=\"T_81c541c5_248b_11eb_be3a_a0510bfbc0d8\" ><thead>    <tr>        <th class=\"blank level0\" ></th>        <th class=\"col_heading level0 col0\" >Total Schools</th>        <th class=\"col_heading level0 col1\" >Total Students</th>        <th class=\"col_heading level0 col2\" >Total Budget</th>        <th class=\"col_heading level0 col3\" >Average Math Score</th>        <th class=\"col_heading level0 col4\" >Average Reading Score</th>        <th class=\"col_heading level0 col5\" >% Passing Math</th>        <th class=\"col_heading level0 col6\" >% Passing Read</th>        <th class=\"col_heading level0 col7\" >% Overall Passing</th>    </tr></thead><tbody>\n",
       "                <tr>\n",
       "                        <th id=\"T_81c541c5_248b_11eb_be3a_a0510bfbc0d8level0_row0\" class=\"row_heading level0 row0\" >0</th>\n",
       "                        <td id=\"T_81c541c5_248b_11eb_be3a_a0510bfbc0d8row0_col0\" class=\"data row0 col0\" >15</td>\n",
       "                        <td id=\"T_81c541c5_248b_11eb_be3a_a0510bfbc0d8row0_col1\" class=\"data row0 col1\" >39,170</td>\n",
       "                        <td id=\"T_81c541c5_248b_11eb_be3a_a0510bfbc0d8row0_col2\" class=\"data row0 col2\" >$24,649,428.00</td>\n",
       "                        <td id=\"T_81c541c5_248b_11eb_be3a_a0510bfbc0d8row0_col3\" class=\"data row0 col3\" >78.985</td>\n",
       "                        <td id=\"T_81c541c5_248b_11eb_be3a_a0510bfbc0d8row0_col4\" class=\"data row0 col4\" >81.878</td>\n",
       "                        <td id=\"T_81c541c5_248b_11eb_be3a_a0510bfbc0d8row0_col5\" class=\"data row0 col5\" >74.981</td>\n",
       "                        <td id=\"T_81c541c5_248b_11eb_be3a_a0510bfbc0d8row0_col6\" class=\"data row0 col6\" >85.805</td>\n",
       "                        <td id=\"T_81c541c5_248b_11eb_be3a_a0510bfbc0d8row0_col7\" class=\"data row0 col7\" >65.172</td>\n",
       "            </tr>\n",
       "    </tbody></table>"
      ],
      "text/plain": [
       "<pandas.io.formats.style.Styler at 0x20fcefc2340>"
      ]
     },
     "execution_count": 12,
     "metadata": {},
     "output_type": "execute_result"
    }
   ],
   "source": [
    "# Give the displayed data cleaner formatting\n",
    "district_sum.style.format({\n",
    "    \"Total Students\": \"{:,}\",\n",
    "    \"Total Budget\": \"${:,.2f}\",\n",
    "    \"Average Math Score\": \"{:,.3f}\",\n",
    "    \"Average Reading Score\": \"{:,.3f}\", \n",
    "    \"% Passing Math\": \"{:,.3f}\", \n",
    "    \"% Passing Read\": \"{:,.3f}\", \n",
    "    \"% Overall Passing\": \"{:,.3f}\"\n",
    "})"
   ]
  },
  {
   "cell_type": "markdown",
   "metadata": {},
   "source": [
    "## School Summary"
   ]
  },
  {
   "cell_type": "markdown",
   "metadata": {},
   "source": [
    "* Create an overview table that summarizes key metrics about each school, including:\n",
    "  * School Name\n",
    "  * School Type\n",
    "  * Total Students\n",
    "  * Total School Budget\n",
    "  * Per Student Budget\n",
    "  * Average Math Score\n",
    "  * Average Reading Score\n",
    "  * % Passing Math\n",
    "  * % Passing Reading\n",
    "  * % Overall Passing (The percentage of students that passed math **and** reading.)\n",
    "  \n",
    "* Create a dataframe to hold the above results"
   ]
  },
  {
   "cell_type": "code",
   "execution_count": 248,
   "metadata": {},
   "outputs": [],
   "source": [
    "# create summary dataframe for variables you already have\n",
    "school_summ = pd.DataFrame({\n",
    "    \"School Name\": school_data['school_name'], \n",
    "    \"School Type\": school_data['type'],\n",
    "    \"Total Students\": school_data['size'],\n",
    "    \"Total School Budget\": school_data['budget'],\n",
    "})"
   ]
  },
  {
   "cell_type": "code",
   "execution_count": 291,
   "metadata": {},
   "outputs": [],
   "source": [
    "# set school summary df index to school name\n",
    "new_school_summ = school_summ.set_index('School Name')"
   ]
  },
  {
   "cell_type": "code",
   "execution_count": 250,
   "metadata": {},
   "outputs": [],
   "source": [
    "# sort complete df by school name\n",
    "all_schools_data = complete_df.groupby('school_name')"
   ]
  },
  {
   "cell_type": "code",
   "execution_count": 251,
   "metadata": {},
   "outputs": [],
   "source": [
    "# per student budget\n",
    "# find number of students per school\n",
    "students_per_school = all_schools_data['Student ID'].count()"
   ]
  },
  {
   "cell_type": "code",
   "execution_count": 252,
   "metadata": {},
   "outputs": [],
   "source": [
    "# total school budget\n",
    "schools_budget = new_school_summ['Total School Budget']"
   ]
  },
  {
   "cell_type": "code",
   "execution_count": 253,
   "metadata": {},
   "outputs": [],
   "source": [
    "# Per Student Budget\n",
    "per_student_budget = schools_budget/students_per_school"
   ]
  },
  {
   "cell_type": "code",
   "execution_count": 254,
   "metadata": {},
   "outputs": [],
   "source": [
    "# Average Math Score\n",
    "school_avg_math = all_schools_data['math_score'].mean()"
   ]
  },
  {
   "cell_type": "code",
   "execution_count": 255,
   "metadata": {},
   "outputs": [],
   "source": [
    "# Average Reading Score\n",
    "school_avg_reading = all_schools_data['reading_score'].mean()"
   ]
  },
  {
   "cell_type": "code",
   "execution_count": 256,
   "metadata": {},
   "outputs": [],
   "source": [
    "# % Passing Math\n",
    "school_passing_math = complete_df[complete_df['math_score'] >= 70].groupby('school_name')['Student ID'].count()\n",
    "school_percent_passing_math = (school_passing_math/students_per_school)*100"
   ]
  },
  {
   "cell_type": "code",
   "execution_count": 257,
   "metadata": {},
   "outputs": [],
   "source": [
    "# % Passing Reading\n",
    "school_passing_reading = complete_df[complete_df['reading_score'] >= 70].groupby('school_name')['Student ID'].count()\n",
    "school_percent_passing_reading = (school_passing_reading/students_per_school)*100"
   ]
  },
  {
   "cell_type": "code",
   "execution_count": 258,
   "metadata": {},
   "outputs": [],
   "source": [
    "# % Overall Passing (The percentage of students that passed math and reading.)\n",
    "school_total_passing = complete_df[(complete_df['reading_score'] >= 70) & (complete_df['math_score'] >= 70)].groupby('school_name')['Student ID'].count()\n",
    "school_pass_percent = (school_total_passing/students_per_school)*100"
   ]
  },
  {
   "cell_type": "code",
   "execution_count": 259,
   "metadata": {},
   "outputs": [],
   "source": [
    "# rename new summary to adjust for sorting by school name\n",
    "summary = new_school_summ.sort_values(by= 'School Name')"
   ]
  },
  {
   "cell_type": "code",
   "execution_count": 260,
   "metadata": {},
   "outputs": [],
   "source": [
    "# add columns for the calculated metrics\n",
    "summary['Per Student Budget'] = per_student_budget\n",
    "summary['Average Math Score'] = school_avg_math\n",
    "summary['Average Reading Score'] = school_avg_reading\n",
    "summary['% Passing Math'] = school_percent_passing_math\n",
    "summary['% Passing Reading'] = school_percent_passing_reading\n",
    "summary['% Overall Passing'] = school_pass_percent\n",
    "summary_df = summary"
   ]
  },
  {
   "cell_type": "code",
   "execution_count": 261,
   "metadata": {},
   "outputs": [
    {
     "data": {
      "text/html": [
       "<style  type=\"text/css\" >\n",
       "</style><table id=\"T_f469af2c_23de_11eb_ba09_a0510bfbc0d8\" ><thead>    <tr>        <th class=\"blank level0\" ></th>        <th class=\"col_heading level0 col0\" >School Type</th>        <th class=\"col_heading level0 col1\" >Total Students</th>        <th class=\"col_heading level0 col2\" >Total School Budget</th>        <th class=\"col_heading level0 col3\" >Per Student Budget</th>        <th class=\"col_heading level0 col4\" >Average Math Score</th>        <th class=\"col_heading level0 col5\" >Average Reading Score</th>        <th class=\"col_heading level0 col6\" >% Passing Math</th>        <th class=\"col_heading level0 col7\" >% Passing Reading</th>        <th class=\"col_heading level0 col8\" >% Overall Passing</th>    </tr>    <tr>        <th class=\"index_name level0\" >School Name</th>        <th class=\"blank\" ></th>        <th class=\"blank\" ></th>        <th class=\"blank\" ></th>        <th class=\"blank\" ></th>        <th class=\"blank\" ></th>        <th class=\"blank\" ></th>        <th class=\"blank\" ></th>        <th class=\"blank\" ></th>        <th class=\"blank\" ></th>    </tr></thead><tbody>\n",
       "                <tr>\n",
       "                        <th id=\"T_f469af2c_23de_11eb_ba09_a0510bfbc0d8level0_row0\" class=\"row_heading level0 row0\" >Bailey High School</th>\n",
       "                        <td id=\"T_f469af2c_23de_11eb_ba09_a0510bfbc0d8row0_col0\" class=\"data row0 col0\" >District</td>\n",
       "                        <td id=\"T_f469af2c_23de_11eb_ba09_a0510bfbc0d8row0_col1\" class=\"data row0 col1\" >4,976</td>\n",
       "                        <td id=\"T_f469af2c_23de_11eb_ba09_a0510bfbc0d8row0_col2\" class=\"data row0 col2\" >$3,124,928.00</td>\n",
       "                        <td id=\"T_f469af2c_23de_11eb_ba09_a0510bfbc0d8row0_col3\" class=\"data row0 col3\" >$628.00</td>\n",
       "                        <td id=\"T_f469af2c_23de_11eb_ba09_a0510bfbc0d8row0_col4\" class=\"data row0 col4\" >77.048</td>\n",
       "                        <td id=\"T_f469af2c_23de_11eb_ba09_a0510bfbc0d8row0_col5\" class=\"data row0 col5\" >81.034</td>\n",
       "                        <td id=\"T_f469af2c_23de_11eb_ba09_a0510bfbc0d8row0_col6\" class=\"data row0 col6\" >66.680</td>\n",
       "                        <td id=\"T_f469af2c_23de_11eb_ba09_a0510bfbc0d8row0_col7\" class=\"data row0 col7\" >81.933</td>\n",
       "                        <td id=\"T_f469af2c_23de_11eb_ba09_a0510bfbc0d8row0_col8\" class=\"data row0 col8\" >54.642</td>\n",
       "            </tr>\n",
       "            <tr>\n",
       "                        <th id=\"T_f469af2c_23de_11eb_ba09_a0510bfbc0d8level0_row1\" class=\"row_heading level0 row1\" >Cabrera High School</th>\n",
       "                        <td id=\"T_f469af2c_23de_11eb_ba09_a0510bfbc0d8row1_col0\" class=\"data row1 col0\" >Charter</td>\n",
       "                        <td id=\"T_f469af2c_23de_11eb_ba09_a0510bfbc0d8row1_col1\" class=\"data row1 col1\" >1,858</td>\n",
       "                        <td id=\"T_f469af2c_23de_11eb_ba09_a0510bfbc0d8row1_col2\" class=\"data row1 col2\" >$1,081,356.00</td>\n",
       "                        <td id=\"T_f469af2c_23de_11eb_ba09_a0510bfbc0d8row1_col3\" class=\"data row1 col3\" >$582.00</td>\n",
       "                        <td id=\"T_f469af2c_23de_11eb_ba09_a0510bfbc0d8row1_col4\" class=\"data row1 col4\" >83.062</td>\n",
       "                        <td id=\"T_f469af2c_23de_11eb_ba09_a0510bfbc0d8row1_col5\" class=\"data row1 col5\" >83.976</td>\n",
       "                        <td id=\"T_f469af2c_23de_11eb_ba09_a0510bfbc0d8row1_col6\" class=\"data row1 col6\" >94.133</td>\n",
       "                        <td id=\"T_f469af2c_23de_11eb_ba09_a0510bfbc0d8row1_col7\" class=\"data row1 col7\" >97.040</td>\n",
       "                        <td id=\"T_f469af2c_23de_11eb_ba09_a0510bfbc0d8row1_col8\" class=\"data row1 col8\" >91.335</td>\n",
       "            </tr>\n",
       "            <tr>\n",
       "                        <th id=\"T_f469af2c_23de_11eb_ba09_a0510bfbc0d8level0_row2\" class=\"row_heading level0 row2\" >Figueroa High School</th>\n",
       "                        <td id=\"T_f469af2c_23de_11eb_ba09_a0510bfbc0d8row2_col0\" class=\"data row2 col0\" >District</td>\n",
       "                        <td id=\"T_f469af2c_23de_11eb_ba09_a0510bfbc0d8row2_col1\" class=\"data row2 col1\" >2,949</td>\n",
       "                        <td id=\"T_f469af2c_23de_11eb_ba09_a0510bfbc0d8row2_col2\" class=\"data row2 col2\" >$1,884,411.00</td>\n",
       "                        <td id=\"T_f469af2c_23de_11eb_ba09_a0510bfbc0d8row2_col3\" class=\"data row2 col3\" >$639.00</td>\n",
       "                        <td id=\"T_f469af2c_23de_11eb_ba09_a0510bfbc0d8row2_col4\" class=\"data row2 col4\" >76.712</td>\n",
       "                        <td id=\"T_f469af2c_23de_11eb_ba09_a0510bfbc0d8row2_col5\" class=\"data row2 col5\" >81.158</td>\n",
       "                        <td id=\"T_f469af2c_23de_11eb_ba09_a0510bfbc0d8row2_col6\" class=\"data row2 col6\" >65.988</td>\n",
       "                        <td id=\"T_f469af2c_23de_11eb_ba09_a0510bfbc0d8row2_col7\" class=\"data row2 col7\" >80.739</td>\n",
       "                        <td id=\"T_f469af2c_23de_11eb_ba09_a0510bfbc0d8row2_col8\" class=\"data row2 col8\" >53.204</td>\n",
       "            </tr>\n",
       "            <tr>\n",
       "                        <th id=\"T_f469af2c_23de_11eb_ba09_a0510bfbc0d8level0_row3\" class=\"row_heading level0 row3\" >Ford High School</th>\n",
       "                        <td id=\"T_f469af2c_23de_11eb_ba09_a0510bfbc0d8row3_col0\" class=\"data row3 col0\" >District</td>\n",
       "                        <td id=\"T_f469af2c_23de_11eb_ba09_a0510bfbc0d8row3_col1\" class=\"data row3 col1\" >2,739</td>\n",
       "                        <td id=\"T_f469af2c_23de_11eb_ba09_a0510bfbc0d8row3_col2\" class=\"data row3 col2\" >$1,763,916.00</td>\n",
       "                        <td id=\"T_f469af2c_23de_11eb_ba09_a0510bfbc0d8row3_col3\" class=\"data row3 col3\" >$644.00</td>\n",
       "                        <td id=\"T_f469af2c_23de_11eb_ba09_a0510bfbc0d8row3_col4\" class=\"data row3 col4\" >77.103</td>\n",
       "                        <td id=\"T_f469af2c_23de_11eb_ba09_a0510bfbc0d8row3_col5\" class=\"data row3 col5\" >80.746</td>\n",
       "                        <td id=\"T_f469af2c_23de_11eb_ba09_a0510bfbc0d8row3_col6\" class=\"data row3 col6\" >68.310</td>\n",
       "                        <td id=\"T_f469af2c_23de_11eb_ba09_a0510bfbc0d8row3_col7\" class=\"data row3 col7\" >79.299</td>\n",
       "                        <td id=\"T_f469af2c_23de_11eb_ba09_a0510bfbc0d8row3_col8\" class=\"data row3 col8\" >54.290</td>\n",
       "            </tr>\n",
       "            <tr>\n",
       "                        <th id=\"T_f469af2c_23de_11eb_ba09_a0510bfbc0d8level0_row4\" class=\"row_heading level0 row4\" >Griffin High School</th>\n",
       "                        <td id=\"T_f469af2c_23de_11eb_ba09_a0510bfbc0d8row4_col0\" class=\"data row4 col0\" >Charter</td>\n",
       "                        <td id=\"T_f469af2c_23de_11eb_ba09_a0510bfbc0d8row4_col1\" class=\"data row4 col1\" >1,468</td>\n",
       "                        <td id=\"T_f469af2c_23de_11eb_ba09_a0510bfbc0d8row4_col2\" class=\"data row4 col2\" >$917,500.00</td>\n",
       "                        <td id=\"T_f469af2c_23de_11eb_ba09_a0510bfbc0d8row4_col3\" class=\"data row4 col3\" >$625.00</td>\n",
       "                        <td id=\"T_f469af2c_23de_11eb_ba09_a0510bfbc0d8row4_col4\" class=\"data row4 col4\" >83.351</td>\n",
       "                        <td id=\"T_f469af2c_23de_11eb_ba09_a0510bfbc0d8row4_col5\" class=\"data row4 col5\" >83.817</td>\n",
       "                        <td id=\"T_f469af2c_23de_11eb_ba09_a0510bfbc0d8row4_col6\" class=\"data row4 col6\" >93.392</td>\n",
       "                        <td id=\"T_f469af2c_23de_11eb_ba09_a0510bfbc0d8row4_col7\" class=\"data row4 col7\" >97.139</td>\n",
       "                        <td id=\"T_f469af2c_23de_11eb_ba09_a0510bfbc0d8row4_col8\" class=\"data row4 col8\" >90.599</td>\n",
       "            </tr>\n",
       "            <tr>\n",
       "                        <th id=\"T_f469af2c_23de_11eb_ba09_a0510bfbc0d8level0_row5\" class=\"row_heading level0 row5\" >Hernandez High School</th>\n",
       "                        <td id=\"T_f469af2c_23de_11eb_ba09_a0510bfbc0d8row5_col0\" class=\"data row5 col0\" >District</td>\n",
       "                        <td id=\"T_f469af2c_23de_11eb_ba09_a0510bfbc0d8row5_col1\" class=\"data row5 col1\" >4,635</td>\n",
       "                        <td id=\"T_f469af2c_23de_11eb_ba09_a0510bfbc0d8row5_col2\" class=\"data row5 col2\" >$3,022,020.00</td>\n",
       "                        <td id=\"T_f469af2c_23de_11eb_ba09_a0510bfbc0d8row5_col3\" class=\"data row5 col3\" >$652.00</td>\n",
       "                        <td id=\"T_f469af2c_23de_11eb_ba09_a0510bfbc0d8row5_col4\" class=\"data row5 col4\" >77.290</td>\n",
       "                        <td id=\"T_f469af2c_23de_11eb_ba09_a0510bfbc0d8row5_col5\" class=\"data row5 col5\" >80.934</td>\n",
       "                        <td id=\"T_f469af2c_23de_11eb_ba09_a0510bfbc0d8row5_col6\" class=\"data row5 col6\" >66.753</td>\n",
       "                        <td id=\"T_f469af2c_23de_11eb_ba09_a0510bfbc0d8row5_col7\" class=\"data row5 col7\" >80.863</td>\n",
       "                        <td id=\"T_f469af2c_23de_11eb_ba09_a0510bfbc0d8row5_col8\" class=\"data row5 col8\" >53.528</td>\n",
       "            </tr>\n",
       "            <tr>\n",
       "                        <th id=\"T_f469af2c_23de_11eb_ba09_a0510bfbc0d8level0_row6\" class=\"row_heading level0 row6\" >Holden High School</th>\n",
       "                        <td id=\"T_f469af2c_23de_11eb_ba09_a0510bfbc0d8row6_col0\" class=\"data row6 col0\" >Charter</td>\n",
       "                        <td id=\"T_f469af2c_23de_11eb_ba09_a0510bfbc0d8row6_col1\" class=\"data row6 col1\" >427</td>\n",
       "                        <td id=\"T_f469af2c_23de_11eb_ba09_a0510bfbc0d8row6_col2\" class=\"data row6 col2\" >$248,087.00</td>\n",
       "                        <td id=\"T_f469af2c_23de_11eb_ba09_a0510bfbc0d8row6_col3\" class=\"data row6 col3\" >$581.00</td>\n",
       "                        <td id=\"T_f469af2c_23de_11eb_ba09_a0510bfbc0d8row6_col4\" class=\"data row6 col4\" >83.803</td>\n",
       "                        <td id=\"T_f469af2c_23de_11eb_ba09_a0510bfbc0d8row6_col5\" class=\"data row6 col5\" >83.815</td>\n",
       "                        <td id=\"T_f469af2c_23de_11eb_ba09_a0510bfbc0d8row6_col6\" class=\"data row6 col6\" >92.506</td>\n",
       "                        <td id=\"T_f469af2c_23de_11eb_ba09_a0510bfbc0d8row6_col7\" class=\"data row6 col7\" >96.253</td>\n",
       "                        <td id=\"T_f469af2c_23de_11eb_ba09_a0510bfbc0d8row6_col8\" class=\"data row6 col8\" >89.227</td>\n",
       "            </tr>\n",
       "            <tr>\n",
       "                        <th id=\"T_f469af2c_23de_11eb_ba09_a0510bfbc0d8level0_row7\" class=\"row_heading level0 row7\" >Huang High School</th>\n",
       "                        <td id=\"T_f469af2c_23de_11eb_ba09_a0510bfbc0d8row7_col0\" class=\"data row7 col0\" >District</td>\n",
       "                        <td id=\"T_f469af2c_23de_11eb_ba09_a0510bfbc0d8row7_col1\" class=\"data row7 col1\" >2,917</td>\n",
       "                        <td id=\"T_f469af2c_23de_11eb_ba09_a0510bfbc0d8row7_col2\" class=\"data row7 col2\" >$1,910,635.00</td>\n",
       "                        <td id=\"T_f469af2c_23de_11eb_ba09_a0510bfbc0d8row7_col3\" class=\"data row7 col3\" >$655.00</td>\n",
       "                        <td id=\"T_f469af2c_23de_11eb_ba09_a0510bfbc0d8row7_col4\" class=\"data row7 col4\" >76.629</td>\n",
       "                        <td id=\"T_f469af2c_23de_11eb_ba09_a0510bfbc0d8row7_col5\" class=\"data row7 col5\" >81.183</td>\n",
       "                        <td id=\"T_f469af2c_23de_11eb_ba09_a0510bfbc0d8row7_col6\" class=\"data row7 col6\" >65.684</td>\n",
       "                        <td id=\"T_f469af2c_23de_11eb_ba09_a0510bfbc0d8row7_col7\" class=\"data row7 col7\" >81.316</td>\n",
       "                        <td id=\"T_f469af2c_23de_11eb_ba09_a0510bfbc0d8row7_col8\" class=\"data row7 col8\" >53.514</td>\n",
       "            </tr>\n",
       "            <tr>\n",
       "                        <th id=\"T_f469af2c_23de_11eb_ba09_a0510bfbc0d8level0_row8\" class=\"row_heading level0 row8\" >Johnson High School</th>\n",
       "                        <td id=\"T_f469af2c_23de_11eb_ba09_a0510bfbc0d8row8_col0\" class=\"data row8 col0\" >District</td>\n",
       "                        <td id=\"T_f469af2c_23de_11eb_ba09_a0510bfbc0d8row8_col1\" class=\"data row8 col1\" >4,761</td>\n",
       "                        <td id=\"T_f469af2c_23de_11eb_ba09_a0510bfbc0d8row8_col2\" class=\"data row8 col2\" >$3,094,650.00</td>\n",
       "                        <td id=\"T_f469af2c_23de_11eb_ba09_a0510bfbc0d8row8_col3\" class=\"data row8 col3\" >$650.00</td>\n",
       "                        <td id=\"T_f469af2c_23de_11eb_ba09_a0510bfbc0d8row8_col4\" class=\"data row8 col4\" >77.072</td>\n",
       "                        <td id=\"T_f469af2c_23de_11eb_ba09_a0510bfbc0d8row8_col5\" class=\"data row8 col5\" >80.966</td>\n",
       "                        <td id=\"T_f469af2c_23de_11eb_ba09_a0510bfbc0d8row8_col6\" class=\"data row8 col6\" >66.058</td>\n",
       "                        <td id=\"T_f469af2c_23de_11eb_ba09_a0510bfbc0d8row8_col7\" class=\"data row8 col7\" >81.222</td>\n",
       "                        <td id=\"T_f469af2c_23de_11eb_ba09_a0510bfbc0d8row8_col8\" class=\"data row8 col8\" >53.539</td>\n",
       "            </tr>\n",
       "            <tr>\n",
       "                        <th id=\"T_f469af2c_23de_11eb_ba09_a0510bfbc0d8level0_row9\" class=\"row_heading level0 row9\" >Pena High School</th>\n",
       "                        <td id=\"T_f469af2c_23de_11eb_ba09_a0510bfbc0d8row9_col0\" class=\"data row9 col0\" >Charter</td>\n",
       "                        <td id=\"T_f469af2c_23de_11eb_ba09_a0510bfbc0d8row9_col1\" class=\"data row9 col1\" >962</td>\n",
       "                        <td id=\"T_f469af2c_23de_11eb_ba09_a0510bfbc0d8row9_col2\" class=\"data row9 col2\" >$585,858.00</td>\n",
       "                        <td id=\"T_f469af2c_23de_11eb_ba09_a0510bfbc0d8row9_col3\" class=\"data row9 col3\" >$609.00</td>\n",
       "                        <td id=\"T_f469af2c_23de_11eb_ba09_a0510bfbc0d8row9_col4\" class=\"data row9 col4\" >83.840</td>\n",
       "                        <td id=\"T_f469af2c_23de_11eb_ba09_a0510bfbc0d8row9_col5\" class=\"data row9 col5\" >84.045</td>\n",
       "                        <td id=\"T_f469af2c_23de_11eb_ba09_a0510bfbc0d8row9_col6\" class=\"data row9 col6\" >94.595</td>\n",
       "                        <td id=\"T_f469af2c_23de_11eb_ba09_a0510bfbc0d8row9_col7\" class=\"data row9 col7\" >95.946</td>\n",
       "                        <td id=\"T_f469af2c_23de_11eb_ba09_a0510bfbc0d8row9_col8\" class=\"data row9 col8\" >90.541</td>\n",
       "            </tr>\n",
       "            <tr>\n",
       "                        <th id=\"T_f469af2c_23de_11eb_ba09_a0510bfbc0d8level0_row10\" class=\"row_heading level0 row10\" >Rodriguez High School</th>\n",
       "                        <td id=\"T_f469af2c_23de_11eb_ba09_a0510bfbc0d8row10_col0\" class=\"data row10 col0\" >District</td>\n",
       "                        <td id=\"T_f469af2c_23de_11eb_ba09_a0510bfbc0d8row10_col1\" class=\"data row10 col1\" >3,999</td>\n",
       "                        <td id=\"T_f469af2c_23de_11eb_ba09_a0510bfbc0d8row10_col2\" class=\"data row10 col2\" >$2,547,363.00</td>\n",
       "                        <td id=\"T_f469af2c_23de_11eb_ba09_a0510bfbc0d8row10_col3\" class=\"data row10 col3\" >$637.00</td>\n",
       "                        <td id=\"T_f469af2c_23de_11eb_ba09_a0510bfbc0d8row10_col4\" class=\"data row10 col4\" >76.843</td>\n",
       "                        <td id=\"T_f469af2c_23de_11eb_ba09_a0510bfbc0d8row10_col5\" class=\"data row10 col5\" >80.745</td>\n",
       "                        <td id=\"T_f469af2c_23de_11eb_ba09_a0510bfbc0d8row10_col6\" class=\"data row10 col6\" >66.367</td>\n",
       "                        <td id=\"T_f469af2c_23de_11eb_ba09_a0510bfbc0d8row10_col7\" class=\"data row10 col7\" >80.220</td>\n",
       "                        <td id=\"T_f469af2c_23de_11eb_ba09_a0510bfbc0d8row10_col8\" class=\"data row10 col8\" >52.988</td>\n",
       "            </tr>\n",
       "            <tr>\n",
       "                        <th id=\"T_f469af2c_23de_11eb_ba09_a0510bfbc0d8level0_row11\" class=\"row_heading level0 row11\" >Shelton High School</th>\n",
       "                        <td id=\"T_f469af2c_23de_11eb_ba09_a0510bfbc0d8row11_col0\" class=\"data row11 col0\" >Charter</td>\n",
       "                        <td id=\"T_f469af2c_23de_11eb_ba09_a0510bfbc0d8row11_col1\" class=\"data row11 col1\" >1,761</td>\n",
       "                        <td id=\"T_f469af2c_23de_11eb_ba09_a0510bfbc0d8row11_col2\" class=\"data row11 col2\" >$1,056,600.00</td>\n",
       "                        <td id=\"T_f469af2c_23de_11eb_ba09_a0510bfbc0d8row11_col3\" class=\"data row11 col3\" >$600.00</td>\n",
       "                        <td id=\"T_f469af2c_23de_11eb_ba09_a0510bfbc0d8row11_col4\" class=\"data row11 col4\" >83.359</td>\n",
       "                        <td id=\"T_f469af2c_23de_11eb_ba09_a0510bfbc0d8row11_col5\" class=\"data row11 col5\" >83.726</td>\n",
       "                        <td id=\"T_f469af2c_23de_11eb_ba09_a0510bfbc0d8row11_col6\" class=\"data row11 col6\" >93.867</td>\n",
       "                        <td id=\"T_f469af2c_23de_11eb_ba09_a0510bfbc0d8row11_col7\" class=\"data row11 col7\" >95.855</td>\n",
       "                        <td id=\"T_f469af2c_23de_11eb_ba09_a0510bfbc0d8row11_col8\" class=\"data row11 col8\" >89.892</td>\n",
       "            </tr>\n",
       "            <tr>\n",
       "                        <th id=\"T_f469af2c_23de_11eb_ba09_a0510bfbc0d8level0_row12\" class=\"row_heading level0 row12\" >Thomas High School</th>\n",
       "                        <td id=\"T_f469af2c_23de_11eb_ba09_a0510bfbc0d8row12_col0\" class=\"data row12 col0\" >Charter</td>\n",
       "                        <td id=\"T_f469af2c_23de_11eb_ba09_a0510bfbc0d8row12_col1\" class=\"data row12 col1\" >1,635</td>\n",
       "                        <td id=\"T_f469af2c_23de_11eb_ba09_a0510bfbc0d8row12_col2\" class=\"data row12 col2\" >$1,043,130.00</td>\n",
       "                        <td id=\"T_f469af2c_23de_11eb_ba09_a0510bfbc0d8row12_col3\" class=\"data row12 col3\" >$638.00</td>\n",
       "                        <td id=\"T_f469af2c_23de_11eb_ba09_a0510bfbc0d8row12_col4\" class=\"data row12 col4\" >83.418</td>\n",
       "                        <td id=\"T_f469af2c_23de_11eb_ba09_a0510bfbc0d8row12_col5\" class=\"data row12 col5\" >83.849</td>\n",
       "                        <td id=\"T_f469af2c_23de_11eb_ba09_a0510bfbc0d8row12_col6\" class=\"data row12 col6\" >93.272</td>\n",
       "                        <td id=\"T_f469af2c_23de_11eb_ba09_a0510bfbc0d8row12_col7\" class=\"data row12 col7\" >97.309</td>\n",
       "                        <td id=\"T_f469af2c_23de_11eb_ba09_a0510bfbc0d8row12_col8\" class=\"data row12 col8\" >90.948</td>\n",
       "            </tr>\n",
       "            <tr>\n",
       "                        <th id=\"T_f469af2c_23de_11eb_ba09_a0510bfbc0d8level0_row13\" class=\"row_heading level0 row13\" >Wilson High School</th>\n",
       "                        <td id=\"T_f469af2c_23de_11eb_ba09_a0510bfbc0d8row13_col0\" class=\"data row13 col0\" >Charter</td>\n",
       "                        <td id=\"T_f469af2c_23de_11eb_ba09_a0510bfbc0d8row13_col1\" class=\"data row13 col1\" >2,283</td>\n",
       "                        <td id=\"T_f469af2c_23de_11eb_ba09_a0510bfbc0d8row13_col2\" class=\"data row13 col2\" >$1,319,574.00</td>\n",
       "                        <td id=\"T_f469af2c_23de_11eb_ba09_a0510bfbc0d8row13_col3\" class=\"data row13 col3\" >$578.00</td>\n",
       "                        <td id=\"T_f469af2c_23de_11eb_ba09_a0510bfbc0d8row13_col4\" class=\"data row13 col4\" >83.274</td>\n",
       "                        <td id=\"T_f469af2c_23de_11eb_ba09_a0510bfbc0d8row13_col5\" class=\"data row13 col5\" >83.989</td>\n",
       "                        <td id=\"T_f469af2c_23de_11eb_ba09_a0510bfbc0d8row13_col6\" class=\"data row13 col6\" >93.868</td>\n",
       "                        <td id=\"T_f469af2c_23de_11eb_ba09_a0510bfbc0d8row13_col7\" class=\"data row13 col7\" >96.540</td>\n",
       "                        <td id=\"T_f469af2c_23de_11eb_ba09_a0510bfbc0d8row13_col8\" class=\"data row13 col8\" >90.583</td>\n",
       "            </tr>\n",
       "            <tr>\n",
       "                        <th id=\"T_f469af2c_23de_11eb_ba09_a0510bfbc0d8level0_row14\" class=\"row_heading level0 row14\" >Wright High School</th>\n",
       "                        <td id=\"T_f469af2c_23de_11eb_ba09_a0510bfbc0d8row14_col0\" class=\"data row14 col0\" >Charter</td>\n",
       "                        <td id=\"T_f469af2c_23de_11eb_ba09_a0510bfbc0d8row14_col1\" class=\"data row14 col1\" >1,800</td>\n",
       "                        <td id=\"T_f469af2c_23de_11eb_ba09_a0510bfbc0d8row14_col2\" class=\"data row14 col2\" >$1,049,400.00</td>\n",
       "                        <td id=\"T_f469af2c_23de_11eb_ba09_a0510bfbc0d8row14_col3\" class=\"data row14 col3\" >$583.00</td>\n",
       "                        <td id=\"T_f469af2c_23de_11eb_ba09_a0510bfbc0d8row14_col4\" class=\"data row14 col4\" >83.682</td>\n",
       "                        <td id=\"T_f469af2c_23de_11eb_ba09_a0510bfbc0d8row14_col5\" class=\"data row14 col5\" >83.955</td>\n",
       "                        <td id=\"T_f469af2c_23de_11eb_ba09_a0510bfbc0d8row14_col6\" class=\"data row14 col6\" >93.333</td>\n",
       "                        <td id=\"T_f469af2c_23de_11eb_ba09_a0510bfbc0d8row14_col7\" class=\"data row14 col7\" >96.611</td>\n",
       "                        <td id=\"T_f469af2c_23de_11eb_ba09_a0510bfbc0d8row14_col8\" class=\"data row14 col8\" >90.333</td>\n",
       "            </tr>\n",
       "    </tbody></table>"
      ],
      "text/plain": [
       "<pandas.io.formats.style.Styler at 0x17342fe2c10>"
      ]
     },
     "execution_count": 261,
     "metadata": {},
     "output_type": "execute_result"
    }
   ],
   "source": [
    "# format df\n",
    "summary_df.style.format({\n",
    "    \"Total Students\": \"{:,}\",\n",
    "    \"Total School Budget\": \"${:,.2f}\",\n",
    "    \"Per Student Budget\": \"${:,.2f}\",\n",
    "    \"Average Math Score\": \"{:,.3f}\",\n",
    "    \"Average Reading Score\": \"{:,.3f}\", \n",
    "    \"% Passing Math\": \"{:,.3f}\", \n",
    "    \"% Passing Reading\": \"{:,.3f}\", \n",
    "    \"% Overall Passing\": \"{:,.3f}\"\n",
    "})"
   ]
  },
  {
   "cell_type": "markdown",
   "metadata": {},
   "source": [
    "## Top Performing Schools (By % Overall Passing)"
   ]
  },
  {
   "cell_type": "markdown",
   "metadata": {},
   "source": [
    "* Sort and display the top five performing schools by % overall passing."
   ]
  },
  {
   "cell_type": "code",
   "execution_count": 262,
   "metadata": {
    "scrolled": true
   },
   "outputs": [
    {
     "data": {
      "text/html": [
       "<div>\n",
       "<style scoped>\n",
       "    .dataframe tbody tr th:only-of-type {\n",
       "        vertical-align: middle;\n",
       "    }\n",
       "\n",
       "    .dataframe tbody tr th {\n",
       "        vertical-align: top;\n",
       "    }\n",
       "\n",
       "    .dataframe thead th {\n",
       "        text-align: right;\n",
       "    }\n",
       "</style>\n",
       "<table border=\"1\" class=\"dataframe\">\n",
       "  <thead>\n",
       "    <tr style=\"text-align: right;\">\n",
       "      <th></th>\n",
       "      <th>School Type</th>\n",
       "      <th>Total Students</th>\n",
       "      <th>Total School Budget</th>\n",
       "      <th>Per Student Budget</th>\n",
       "      <th>Average Math Score</th>\n",
       "      <th>Average Reading Score</th>\n",
       "      <th>% Passing Math</th>\n",
       "      <th>% Passing Reading</th>\n",
       "      <th>% Overall Passing</th>\n",
       "    </tr>\n",
       "    <tr>\n",
       "      <th>School Name</th>\n",
       "      <th></th>\n",
       "      <th></th>\n",
       "      <th></th>\n",
       "      <th></th>\n",
       "      <th></th>\n",
       "      <th></th>\n",
       "      <th></th>\n",
       "      <th></th>\n",
       "      <th></th>\n",
       "    </tr>\n",
       "  </thead>\n",
       "  <tbody>\n",
       "    <tr>\n",
       "      <th>Cabrera High School</th>\n",
       "      <td>Charter</td>\n",
       "      <td>1858</td>\n",
       "      <td>1081356</td>\n",
       "      <td>582.0</td>\n",
       "      <td>83.061895</td>\n",
       "      <td>83.975780</td>\n",
       "      <td>94.133477</td>\n",
       "      <td>97.039828</td>\n",
       "      <td>91.334769</td>\n",
       "    </tr>\n",
       "    <tr>\n",
       "      <th>Thomas High School</th>\n",
       "      <td>Charter</td>\n",
       "      <td>1635</td>\n",
       "      <td>1043130</td>\n",
       "      <td>638.0</td>\n",
       "      <td>83.418349</td>\n",
       "      <td>83.848930</td>\n",
       "      <td>93.272171</td>\n",
       "      <td>97.308869</td>\n",
       "      <td>90.948012</td>\n",
       "    </tr>\n",
       "    <tr>\n",
       "      <th>Griffin High School</th>\n",
       "      <td>Charter</td>\n",
       "      <td>1468</td>\n",
       "      <td>917500</td>\n",
       "      <td>625.0</td>\n",
       "      <td>83.351499</td>\n",
       "      <td>83.816757</td>\n",
       "      <td>93.392371</td>\n",
       "      <td>97.138965</td>\n",
       "      <td>90.599455</td>\n",
       "    </tr>\n",
       "    <tr>\n",
       "      <th>Wilson High School</th>\n",
       "      <td>Charter</td>\n",
       "      <td>2283</td>\n",
       "      <td>1319574</td>\n",
       "      <td>578.0</td>\n",
       "      <td>83.274201</td>\n",
       "      <td>83.989488</td>\n",
       "      <td>93.867718</td>\n",
       "      <td>96.539641</td>\n",
       "      <td>90.582567</td>\n",
       "    </tr>\n",
       "    <tr>\n",
       "      <th>Pena High School</th>\n",
       "      <td>Charter</td>\n",
       "      <td>962</td>\n",
       "      <td>585858</td>\n",
       "      <td>609.0</td>\n",
       "      <td>83.839917</td>\n",
       "      <td>84.044699</td>\n",
       "      <td>94.594595</td>\n",
       "      <td>95.945946</td>\n",
       "      <td>90.540541</td>\n",
       "    </tr>\n",
       "  </tbody>\n",
       "</table>\n",
       "</div>"
      ],
      "text/plain": [
       "                    School Type  Total Students  Total School Budget  \\\n",
       "School Name                                                            \n",
       "Cabrera High School     Charter            1858              1081356   \n",
       "Thomas High School      Charter            1635              1043130   \n",
       "Griffin High School     Charter            1468               917500   \n",
       "Wilson High School      Charter            2283              1319574   \n",
       "Pena High School        Charter             962               585858   \n",
       "\n",
       "                     Per Student Budget  Average Math Score  \\\n",
       "School Name                                                   \n",
       "Cabrera High School               582.0           83.061895   \n",
       "Thomas High School                638.0           83.418349   \n",
       "Griffin High School               625.0           83.351499   \n",
       "Wilson High School                578.0           83.274201   \n",
       "Pena High School                  609.0           83.839917   \n",
       "\n",
       "                     Average Reading Score  % Passing Math  % Passing Reading  \\\n",
       "School Name                                                                     \n",
       "Cabrera High School              83.975780       94.133477          97.039828   \n",
       "Thomas High School               83.848930       93.272171          97.308869   \n",
       "Griffin High School              83.816757       93.392371          97.138965   \n",
       "Wilson High School               83.989488       93.867718          96.539641   \n",
       "Pena High School                 84.044699       94.594595          95.945946   \n",
       "\n",
       "                     % Overall Passing  \n",
       "School Name                             \n",
       "Cabrera High School          91.334769  \n",
       "Thomas High School           90.948012  \n",
       "Griffin High School          90.599455  \n",
       "Wilson High School           90.582567  \n",
       "Pena High School             90.540541  "
      ]
     },
     "execution_count": 262,
     "metadata": {},
     "output_type": "execute_result"
    }
   ],
   "source": [
    "# Sort and display the top five performing schools by % overall passing\n",
    "top_five = summary_df.sort_values(by= [\"% Overall Passing\"], ascending= False).head(5)\n",
    "top_five"
   ]
  },
  {
   "cell_type": "markdown",
   "metadata": {},
   "source": [
    "## Bottom Performing Schools (By % Overall Passing)"
   ]
  },
  {
   "cell_type": "markdown",
   "metadata": {},
   "source": [
    "* Sort and display the five worst-performing schools by % overall passing."
   ]
  },
  {
   "cell_type": "code",
   "execution_count": 263,
   "metadata": {},
   "outputs": [
    {
     "data": {
      "text/html": [
       "<div>\n",
       "<style scoped>\n",
       "    .dataframe tbody tr th:only-of-type {\n",
       "        vertical-align: middle;\n",
       "    }\n",
       "\n",
       "    .dataframe tbody tr th {\n",
       "        vertical-align: top;\n",
       "    }\n",
       "\n",
       "    .dataframe thead th {\n",
       "        text-align: right;\n",
       "    }\n",
       "</style>\n",
       "<table border=\"1\" class=\"dataframe\">\n",
       "  <thead>\n",
       "    <tr style=\"text-align: right;\">\n",
       "      <th></th>\n",
       "      <th>School Type</th>\n",
       "      <th>Total Students</th>\n",
       "      <th>Total School Budget</th>\n",
       "      <th>Per Student Budget</th>\n",
       "      <th>Average Math Score</th>\n",
       "      <th>Average Reading Score</th>\n",
       "      <th>% Passing Math</th>\n",
       "      <th>% Passing Reading</th>\n",
       "      <th>% Overall Passing</th>\n",
       "    </tr>\n",
       "    <tr>\n",
       "      <th>School Name</th>\n",
       "      <th></th>\n",
       "      <th></th>\n",
       "      <th></th>\n",
       "      <th></th>\n",
       "      <th></th>\n",
       "      <th></th>\n",
       "      <th></th>\n",
       "      <th></th>\n",
       "      <th></th>\n",
       "    </tr>\n",
       "  </thead>\n",
       "  <tbody>\n",
       "    <tr>\n",
       "      <th>Rodriguez High School</th>\n",
       "      <td>District</td>\n",
       "      <td>3999</td>\n",
       "      <td>2547363</td>\n",
       "      <td>637.0</td>\n",
       "      <td>76.842711</td>\n",
       "      <td>80.744686</td>\n",
       "      <td>66.366592</td>\n",
       "      <td>80.220055</td>\n",
       "      <td>52.988247</td>\n",
       "    </tr>\n",
       "    <tr>\n",
       "      <th>Figueroa High School</th>\n",
       "      <td>District</td>\n",
       "      <td>2949</td>\n",
       "      <td>1884411</td>\n",
       "      <td>639.0</td>\n",
       "      <td>76.711767</td>\n",
       "      <td>81.158020</td>\n",
       "      <td>65.988471</td>\n",
       "      <td>80.739234</td>\n",
       "      <td>53.204476</td>\n",
       "    </tr>\n",
       "    <tr>\n",
       "      <th>Huang High School</th>\n",
       "      <td>District</td>\n",
       "      <td>2917</td>\n",
       "      <td>1910635</td>\n",
       "      <td>655.0</td>\n",
       "      <td>76.629414</td>\n",
       "      <td>81.182722</td>\n",
       "      <td>65.683922</td>\n",
       "      <td>81.316421</td>\n",
       "      <td>53.513884</td>\n",
       "    </tr>\n",
       "    <tr>\n",
       "      <th>Hernandez High School</th>\n",
       "      <td>District</td>\n",
       "      <td>4635</td>\n",
       "      <td>3022020</td>\n",
       "      <td>652.0</td>\n",
       "      <td>77.289752</td>\n",
       "      <td>80.934412</td>\n",
       "      <td>66.752967</td>\n",
       "      <td>80.862999</td>\n",
       "      <td>53.527508</td>\n",
       "    </tr>\n",
       "    <tr>\n",
       "      <th>Johnson High School</th>\n",
       "      <td>District</td>\n",
       "      <td>4761</td>\n",
       "      <td>3094650</td>\n",
       "      <td>650.0</td>\n",
       "      <td>77.072464</td>\n",
       "      <td>80.966394</td>\n",
       "      <td>66.057551</td>\n",
       "      <td>81.222432</td>\n",
       "      <td>53.539172</td>\n",
       "    </tr>\n",
       "  </tbody>\n",
       "</table>\n",
       "</div>"
      ],
      "text/plain": [
       "                      School Type  Total Students  Total School Budget  \\\n",
       "School Name                                                              \n",
       "Rodriguez High School    District            3999              2547363   \n",
       "Figueroa High School     District            2949              1884411   \n",
       "Huang High School        District            2917              1910635   \n",
       "Hernandez High School    District            4635              3022020   \n",
       "Johnson High School      District            4761              3094650   \n",
       "\n",
       "                       Per Student Budget  Average Math Score  \\\n",
       "School Name                                                     \n",
       "Rodriguez High School               637.0           76.842711   \n",
       "Figueroa High School                639.0           76.711767   \n",
       "Huang High School                   655.0           76.629414   \n",
       "Hernandez High School               652.0           77.289752   \n",
       "Johnson High School                 650.0           77.072464   \n",
       "\n",
       "                       Average Reading Score  % Passing Math  \\\n",
       "School Name                                                    \n",
       "Rodriguez High School              80.744686       66.366592   \n",
       "Figueroa High School               81.158020       65.988471   \n",
       "Huang High School                  81.182722       65.683922   \n",
       "Hernandez High School              80.934412       66.752967   \n",
       "Johnson High School                80.966394       66.057551   \n",
       "\n",
       "                       % Passing Reading  % Overall Passing  \n",
       "School Name                                                  \n",
       "Rodriguez High School          80.220055          52.988247  \n",
       "Figueroa High School           80.739234          53.204476  \n",
       "Huang High School              81.316421          53.513884  \n",
       "Hernandez High School          80.862999          53.527508  \n",
       "Johnson High School            81.222432          53.539172  "
      ]
     },
     "execution_count": 263,
     "metadata": {},
     "output_type": "execute_result"
    }
   ],
   "source": [
    "# Sort and display the five worst-performing schools by % overall passing.\n",
    "bottom_five = summary_df.sort_values(by= [\"% Overall Passing\"], ascending=True).head(5)\n",
    "bottom_five"
   ]
  },
  {
   "cell_type": "markdown",
   "metadata": {
    "collapsed": true
   },
   "source": [
    "## Math Scores by Grade"
   ]
  },
  {
   "cell_type": "markdown",
   "metadata": {},
   "source": [
    "* Create a table that lists the average Reading Score for students of each grade level (9th, 10th, 11th, 12th) at each school.\n",
    "\n",
    "  * Create a pandas series for each grade. Hint: use a conditional statement.\n",
    "  \n",
    "  * Group each series by school\n",
    "  \n",
    "  * Combine the series into a dataframe\n",
    "  \n",
    "  * Optional: give the displayed data cleaner formatting"
   ]
  },
  {
   "cell_type": "code",
   "execution_count": 264,
   "metadata": {},
   "outputs": [],
   "source": [
    "# Create a pandas series for each grade and group by school. \n",
    "ninth_math = student_data.loc[student_data[\"grade\"] == '9th'].groupby('school_name')['math_score'].mean()\n",
    "tenth_math = student_data.loc[student_data[\"grade\"] == '10th'].groupby('school_name')['math_score'].mean()\n",
    "eleventh_math = student_data.loc[student_data[\"grade\"] == '11th'].groupby('school_name')['math_score'].mean()\n",
    "twelfth_math = student_data.loc[student_data[\"grade\"] == '12th'].groupby('school_name')['math_score'].mean()"
   ]
  },
  {
   "cell_type": "code",
   "execution_count": 265,
   "metadata": {},
   "outputs": [
    {
     "data": {
      "text/html": [
       "<div>\n",
       "<style scoped>\n",
       "    .dataframe tbody tr th:only-of-type {\n",
       "        vertical-align: middle;\n",
       "    }\n",
       "\n",
       "    .dataframe tbody tr th {\n",
       "        vertical-align: top;\n",
       "    }\n",
       "\n",
       "    .dataframe thead th {\n",
       "        text-align: right;\n",
       "    }\n",
       "</style>\n",
       "<table border=\"1\" class=\"dataframe\">\n",
       "  <thead>\n",
       "    <tr style=\"text-align: right;\">\n",
       "      <th></th>\n",
       "      <th>9th</th>\n",
       "      <th>10th</th>\n",
       "      <th>11th</th>\n",
       "      <th>12th</th>\n",
       "    </tr>\n",
       "    <tr>\n",
       "      <th>school_name</th>\n",
       "      <th></th>\n",
       "      <th></th>\n",
       "      <th></th>\n",
       "      <th></th>\n",
       "    </tr>\n",
       "  </thead>\n",
       "  <tbody>\n",
       "    <tr>\n",
       "      <th>Bailey High School</th>\n",
       "      <td>77.083676</td>\n",
       "      <td>76.996772</td>\n",
       "      <td>77.515588</td>\n",
       "      <td>76.492218</td>\n",
       "    </tr>\n",
       "    <tr>\n",
       "      <th>Cabrera High School</th>\n",
       "      <td>83.094697</td>\n",
       "      <td>83.154506</td>\n",
       "      <td>82.765560</td>\n",
       "      <td>83.277487</td>\n",
       "    </tr>\n",
       "    <tr>\n",
       "      <th>Figueroa High School</th>\n",
       "      <td>76.403037</td>\n",
       "      <td>76.539974</td>\n",
       "      <td>76.884344</td>\n",
       "      <td>77.151369</td>\n",
       "    </tr>\n",
       "    <tr>\n",
       "      <th>Ford High School</th>\n",
       "      <td>77.361345</td>\n",
       "      <td>77.672316</td>\n",
       "      <td>76.918058</td>\n",
       "      <td>76.179963</td>\n",
       "    </tr>\n",
       "    <tr>\n",
       "      <th>Griffin High School</th>\n",
       "      <td>82.044010</td>\n",
       "      <td>84.229064</td>\n",
       "      <td>83.842105</td>\n",
       "      <td>83.356164</td>\n",
       "    </tr>\n",
       "    <tr>\n",
       "      <th>Hernandez High School</th>\n",
       "      <td>77.438495</td>\n",
       "      <td>77.337408</td>\n",
       "      <td>77.136029</td>\n",
       "      <td>77.186567</td>\n",
       "    </tr>\n",
       "    <tr>\n",
       "      <th>Holden High School</th>\n",
       "      <td>83.787402</td>\n",
       "      <td>83.429825</td>\n",
       "      <td>85.000000</td>\n",
       "      <td>82.855422</td>\n",
       "    </tr>\n",
       "    <tr>\n",
       "      <th>Huang High School</th>\n",
       "      <td>77.027251</td>\n",
       "      <td>75.908735</td>\n",
       "      <td>76.446602</td>\n",
       "      <td>77.225641</td>\n",
       "    </tr>\n",
       "    <tr>\n",
       "      <th>Johnson High School</th>\n",
       "      <td>77.187857</td>\n",
       "      <td>76.691117</td>\n",
       "      <td>77.491653</td>\n",
       "      <td>76.863248</td>\n",
       "    </tr>\n",
       "    <tr>\n",
       "      <th>Pena High School</th>\n",
       "      <td>83.625455</td>\n",
       "      <td>83.372000</td>\n",
       "      <td>84.328125</td>\n",
       "      <td>84.121547</td>\n",
       "    </tr>\n",
       "    <tr>\n",
       "      <th>Rodriguez High School</th>\n",
       "      <td>76.859966</td>\n",
       "      <td>76.612500</td>\n",
       "      <td>76.395626</td>\n",
       "      <td>77.690748</td>\n",
       "    </tr>\n",
       "    <tr>\n",
       "      <th>Shelton High School</th>\n",
       "      <td>83.420755</td>\n",
       "      <td>82.917411</td>\n",
       "      <td>83.383495</td>\n",
       "      <td>83.778976</td>\n",
       "    </tr>\n",
       "    <tr>\n",
       "      <th>Thomas High School</th>\n",
       "      <td>83.590022</td>\n",
       "      <td>83.087886</td>\n",
       "      <td>83.498795</td>\n",
       "      <td>83.497041</td>\n",
       "    </tr>\n",
       "    <tr>\n",
       "      <th>Wilson High School</th>\n",
       "      <td>83.085578</td>\n",
       "      <td>83.724422</td>\n",
       "      <td>83.195326</td>\n",
       "      <td>83.035794</td>\n",
       "    </tr>\n",
       "    <tr>\n",
       "      <th>Wright High School</th>\n",
       "      <td>83.264706</td>\n",
       "      <td>84.010288</td>\n",
       "      <td>83.836782</td>\n",
       "      <td>83.644986</td>\n",
       "    </tr>\n",
       "  </tbody>\n",
       "</table>\n",
       "</div>"
      ],
      "text/plain": [
       "                             9th       10th       11th       12th\n",
       "school_name                                                      \n",
       "Bailey High School     77.083676  76.996772  77.515588  76.492218\n",
       "Cabrera High School    83.094697  83.154506  82.765560  83.277487\n",
       "Figueroa High School   76.403037  76.539974  76.884344  77.151369\n",
       "Ford High School       77.361345  77.672316  76.918058  76.179963\n",
       "Griffin High School    82.044010  84.229064  83.842105  83.356164\n",
       "Hernandez High School  77.438495  77.337408  77.136029  77.186567\n",
       "Holden High School     83.787402  83.429825  85.000000  82.855422\n",
       "Huang High School      77.027251  75.908735  76.446602  77.225641\n",
       "Johnson High School    77.187857  76.691117  77.491653  76.863248\n",
       "Pena High School       83.625455  83.372000  84.328125  84.121547\n",
       "Rodriguez High School  76.859966  76.612500  76.395626  77.690748\n",
       "Shelton High School    83.420755  82.917411  83.383495  83.778976\n",
       "Thomas High School     83.590022  83.087886  83.498795  83.497041\n",
       "Wilson High School     83.085578  83.724422  83.195326  83.035794\n",
       "Wright High School     83.264706  84.010288  83.836782  83.644986"
      ]
     },
     "execution_count": 265,
     "metadata": {},
     "output_type": "execute_result"
    }
   ],
   "source": [
    "# Combine the series into a dataframe\n",
    "math_scores_by_grade = pd.DataFrame({\n",
    "    \"9th\": ninth_math, \n",
    "    \"10th\": tenth_math, \n",
    "    \"11th\": eleventh_math, \n",
    "    \"12th\": twelfth_math\n",
    "})\n",
    "math_scores_by_grade"
   ]
  },
  {
   "cell_type": "markdown",
   "metadata": {},
   "source": [
    "## Reading Score by Grade "
   ]
  },
  {
   "cell_type": "markdown",
   "metadata": {},
   "source": [
    "* Perform the same operations as above for reading scores"
   ]
  },
  {
   "cell_type": "code",
   "execution_count": 266,
   "metadata": {},
   "outputs": [],
   "source": [
    "# Create a pandas series for each grade and group by school. \n",
    "ninth_read = student_data.loc[student_data[\"grade\"] == '9th'].groupby('school_name')['reading_score'].mean()\n",
    "tenth_read = student_data.loc[student_data[\"grade\"] == '10th'].groupby('school_name')['reading_score'].mean()\n",
    "eleventh_read = student_data.loc[student_data[\"grade\"] == '11th'].groupby('school_name')['reading_score'].mean()\n",
    "twelfth_read = student_data.loc[student_data[\"grade\"] == '12th'].groupby('school_name')['reading_score'].mean()"
   ]
  },
  {
   "cell_type": "code",
   "execution_count": 267,
   "metadata": {},
   "outputs": [
    {
     "data": {
      "text/html": [
       "<div>\n",
       "<style scoped>\n",
       "    .dataframe tbody tr th:only-of-type {\n",
       "        vertical-align: middle;\n",
       "    }\n",
       "\n",
       "    .dataframe tbody tr th {\n",
       "        vertical-align: top;\n",
       "    }\n",
       "\n",
       "    .dataframe thead th {\n",
       "        text-align: right;\n",
       "    }\n",
       "</style>\n",
       "<table border=\"1\" class=\"dataframe\">\n",
       "  <thead>\n",
       "    <tr style=\"text-align: right;\">\n",
       "      <th></th>\n",
       "      <th>9th</th>\n",
       "      <th>10th</th>\n",
       "      <th>11th</th>\n",
       "      <th>12th</th>\n",
       "    </tr>\n",
       "    <tr>\n",
       "      <th>school_name</th>\n",
       "      <th></th>\n",
       "      <th></th>\n",
       "      <th></th>\n",
       "      <th></th>\n",
       "    </tr>\n",
       "  </thead>\n",
       "  <tbody>\n",
       "    <tr>\n",
       "      <th>Bailey High School</th>\n",
       "      <td>81.303155</td>\n",
       "      <td>80.907183</td>\n",
       "      <td>80.945643</td>\n",
       "      <td>80.912451</td>\n",
       "    </tr>\n",
       "    <tr>\n",
       "      <th>Cabrera High School</th>\n",
       "      <td>83.676136</td>\n",
       "      <td>84.253219</td>\n",
       "      <td>83.788382</td>\n",
       "      <td>84.287958</td>\n",
       "    </tr>\n",
       "    <tr>\n",
       "      <th>Figueroa High School</th>\n",
       "      <td>81.198598</td>\n",
       "      <td>81.408912</td>\n",
       "      <td>80.640339</td>\n",
       "      <td>81.384863</td>\n",
       "    </tr>\n",
       "    <tr>\n",
       "      <th>Ford High School</th>\n",
       "      <td>80.632653</td>\n",
       "      <td>81.262712</td>\n",
       "      <td>80.403642</td>\n",
       "      <td>80.662338</td>\n",
       "    </tr>\n",
       "    <tr>\n",
       "      <th>Griffin High School</th>\n",
       "      <td>83.369193</td>\n",
       "      <td>83.706897</td>\n",
       "      <td>84.288089</td>\n",
       "      <td>84.013699</td>\n",
       "    </tr>\n",
       "    <tr>\n",
       "      <th>Hernandez High School</th>\n",
       "      <td>80.866860</td>\n",
       "      <td>80.660147</td>\n",
       "      <td>81.396140</td>\n",
       "      <td>80.857143</td>\n",
       "    </tr>\n",
       "    <tr>\n",
       "      <th>Holden High School</th>\n",
       "      <td>83.677165</td>\n",
       "      <td>83.324561</td>\n",
       "      <td>83.815534</td>\n",
       "      <td>84.698795</td>\n",
       "    </tr>\n",
       "    <tr>\n",
       "      <th>Huang High School</th>\n",
       "      <td>81.290284</td>\n",
       "      <td>81.512386</td>\n",
       "      <td>81.417476</td>\n",
       "      <td>80.305983</td>\n",
       "    </tr>\n",
       "    <tr>\n",
       "      <th>Johnson High School</th>\n",
       "      <td>81.260714</td>\n",
       "      <td>80.773431</td>\n",
       "      <td>80.616027</td>\n",
       "      <td>81.227564</td>\n",
       "    </tr>\n",
       "    <tr>\n",
       "      <th>Pena High School</th>\n",
       "      <td>83.807273</td>\n",
       "      <td>83.612000</td>\n",
       "      <td>84.335938</td>\n",
       "      <td>84.591160</td>\n",
       "    </tr>\n",
       "    <tr>\n",
       "      <th>Rodriguez High School</th>\n",
       "      <td>80.993127</td>\n",
       "      <td>80.629808</td>\n",
       "      <td>80.864811</td>\n",
       "      <td>80.376426</td>\n",
       "    </tr>\n",
       "    <tr>\n",
       "      <th>Shelton High School</th>\n",
       "      <td>84.122642</td>\n",
       "      <td>83.441964</td>\n",
       "      <td>84.373786</td>\n",
       "      <td>82.781671</td>\n",
       "    </tr>\n",
       "    <tr>\n",
       "      <th>Thomas High School</th>\n",
       "      <td>83.728850</td>\n",
       "      <td>84.254157</td>\n",
       "      <td>83.585542</td>\n",
       "      <td>83.831361</td>\n",
       "    </tr>\n",
       "    <tr>\n",
       "      <th>Wilson High School</th>\n",
       "      <td>83.939778</td>\n",
       "      <td>84.021452</td>\n",
       "      <td>83.764608</td>\n",
       "      <td>84.317673</td>\n",
       "    </tr>\n",
       "    <tr>\n",
       "      <th>Wright High School</th>\n",
       "      <td>83.833333</td>\n",
       "      <td>83.812757</td>\n",
       "      <td>84.156322</td>\n",
       "      <td>84.073171</td>\n",
       "    </tr>\n",
       "  </tbody>\n",
       "</table>\n",
       "</div>"
      ],
      "text/plain": [
       "                             9th       10th       11th       12th\n",
       "school_name                                                      \n",
       "Bailey High School     81.303155  80.907183  80.945643  80.912451\n",
       "Cabrera High School    83.676136  84.253219  83.788382  84.287958\n",
       "Figueroa High School   81.198598  81.408912  80.640339  81.384863\n",
       "Ford High School       80.632653  81.262712  80.403642  80.662338\n",
       "Griffin High School    83.369193  83.706897  84.288089  84.013699\n",
       "Hernandez High School  80.866860  80.660147  81.396140  80.857143\n",
       "Holden High School     83.677165  83.324561  83.815534  84.698795\n",
       "Huang High School      81.290284  81.512386  81.417476  80.305983\n",
       "Johnson High School    81.260714  80.773431  80.616027  81.227564\n",
       "Pena High School       83.807273  83.612000  84.335938  84.591160\n",
       "Rodriguez High School  80.993127  80.629808  80.864811  80.376426\n",
       "Shelton High School    84.122642  83.441964  84.373786  82.781671\n",
       "Thomas High School     83.728850  84.254157  83.585542  83.831361\n",
       "Wilson High School     83.939778  84.021452  83.764608  84.317673\n",
       "Wright High School     83.833333  83.812757  84.156322  84.073171"
      ]
     },
     "execution_count": 267,
     "metadata": {},
     "output_type": "execute_result"
    }
   ],
   "source": [
    "# Combine the series into a dataframe\n",
    "read_scores_by_grade = pd.DataFrame({\n",
    "    \"9th\": ninth_read, \n",
    "    \"10th\": tenth_read, \n",
    "    \"11th\": eleventh_read, \n",
    "    \"12th\": twelfth_read\n",
    "})\n",
    "read_scores_by_grade"
   ]
  },
  {
   "cell_type": "markdown",
   "metadata": {},
   "source": [
    "## Scores by School Spending"
   ]
  },
  {
   "cell_type": "markdown",
   "metadata": {},
   "source": [
    "* Create a table that breaks down school performances based on average Spending Ranges (Per Student). Use 4 reasonable bins to group school spending. Include in the table each of the following:\n",
    "  * Average Math Score\n",
    "  * Average Reading Score\n",
    "  * % Passing Math\n",
    "  * % Passing Reading\n",
    "  * Overall Passing Rate (Average of the above two)"
   ]
  },
  {
   "cell_type": "code",
   "execution_count": 268,
   "metadata": {},
   "outputs": [],
   "source": [
    "# set bins \n",
    "bins = [0, 584, 629, 644, 675]\n",
    "# assign groups\n",
    "groups = [\"<$584\", \"$585-629\", \"$630-644\", \"$645-675\"]\n",
    "\n",
    "# add bins to df\n",
    "spending_bins = pd.cut(summary_df['Per Student Budget'], bins, labels=groups)\n",
    "summary_df[\"Spending Ranges (Per Student)\"] = spending_bins\n",
    "spending_scores = summary_df.set_index(\"Spending Ranges (Per Student)\")"
   ]
  },
  {
   "cell_type": "code",
   "execution_count": 269,
   "metadata": {},
   "outputs": [],
   "source": [
    "# print scores by spending df\n",
    "by_spending_df = pd.DataFrame({\n",
    "    \"Spending Ranges (Per Student)\": spending_bins, \n",
    "    \"Average Math Score\": school_avg_math,\n",
    "    \"Average Reading Score\": school_avg_reading, \n",
    "    \"% Passing Math\": school_percent_passing_math, \n",
    "    \"% Passing Reading\": school_percent_passing_reading, \n",
    "    \"% Overall Passing\": school_pass_percent\n",
    "})"
   ]
  },
  {
   "cell_type": "code",
   "execution_count": 270,
   "metadata": {},
   "outputs": [],
   "source": [
    "# set spending range as index and groupby spending\n",
    "mean_score_spending = by_spending_df.set_index(\"Spending Ranges (Per Student)\")\n",
    "mean_score = mean_score_spending.groupby('Spending Ranges (Per Student)').mean()"
   ]
  },
  {
   "cell_type": "code",
   "execution_count": 271,
   "metadata": {},
   "outputs": [
    {
     "data": {
      "text/html": [
       "<style  type=\"text/css\" >\n",
       "</style><table id=\"T_faf32637_23de_11eb_af64_a0510bfbc0d8\" ><thead>    <tr>        <th class=\"blank level0\" ></th>        <th class=\"col_heading level0 col0\" >Average Math Score</th>        <th class=\"col_heading level0 col1\" >Average Reading Score</th>        <th class=\"col_heading level0 col2\" >% Passing Math</th>        <th class=\"col_heading level0 col3\" >% Passing Reading</th>        <th class=\"col_heading level0 col4\" >% Overall Passing</th>    </tr>    <tr>        <th class=\"index_name level0\" >Spending Ranges (Per Student)</th>        <th class=\"blank\" ></th>        <th class=\"blank\" ></th>        <th class=\"blank\" ></th>        <th class=\"blank\" ></th>        <th class=\"blank\" ></th>    </tr></thead><tbody>\n",
       "                <tr>\n",
       "                        <th id=\"T_faf32637_23de_11eb_af64_a0510bfbc0d8level0_row0\" class=\"row_heading level0 row0\" ><$584</th>\n",
       "                        <td id=\"T_faf32637_23de_11eb_af64_a0510bfbc0d8row0_col0\" class=\"data row0 col0\" >83.46</td>\n",
       "                        <td id=\"T_faf32637_23de_11eb_af64_a0510bfbc0d8row0_col1\" class=\"data row0 col1\" >83.93</td>\n",
       "                        <td id=\"T_faf32637_23de_11eb_af64_a0510bfbc0d8row0_col2\" class=\"data row0 col2\" >93.46</td>\n",
       "                        <td id=\"T_faf32637_23de_11eb_af64_a0510bfbc0d8row0_col3\" class=\"data row0 col3\" >96.61</td>\n",
       "                        <td id=\"T_faf32637_23de_11eb_af64_a0510bfbc0d8row0_col4\" class=\"data row0 col4\" >90.37</td>\n",
       "            </tr>\n",
       "            <tr>\n",
       "                        <th id=\"T_faf32637_23de_11eb_af64_a0510bfbc0d8level0_row1\" class=\"row_heading level0 row1\" >$585-629</th>\n",
       "                        <td id=\"T_faf32637_23de_11eb_af64_a0510bfbc0d8row1_col0\" class=\"data row1 col0\" >81.90</td>\n",
       "                        <td id=\"T_faf32637_23de_11eb_af64_a0510bfbc0d8row1_col1\" class=\"data row1 col1\" >83.16</td>\n",
       "                        <td id=\"T_faf32637_23de_11eb_af64_a0510bfbc0d8row1_col2\" class=\"data row1 col2\" >87.13</td>\n",
       "                        <td id=\"T_faf32637_23de_11eb_af64_a0510bfbc0d8row1_col3\" class=\"data row1 col3\" >92.72</td>\n",
       "                        <td id=\"T_faf32637_23de_11eb_af64_a0510bfbc0d8row1_col4\" class=\"data row1 col4\" >81.42</td>\n",
       "            </tr>\n",
       "            <tr>\n",
       "                        <th id=\"T_faf32637_23de_11eb_af64_a0510bfbc0d8level0_row2\" class=\"row_heading level0 row2\" >$630-644</th>\n",
       "                        <td id=\"T_faf32637_23de_11eb_af64_a0510bfbc0d8row2_col0\" class=\"data row2 col0\" >78.52</td>\n",
       "                        <td id=\"T_faf32637_23de_11eb_af64_a0510bfbc0d8row2_col1\" class=\"data row2 col1\" >81.62</td>\n",
       "                        <td id=\"T_faf32637_23de_11eb_af64_a0510bfbc0d8row2_col2\" class=\"data row2 col2\" >73.48</td>\n",
       "                        <td id=\"T_faf32637_23de_11eb_af64_a0510bfbc0d8row2_col3\" class=\"data row2 col3\" >84.39</td>\n",
       "                        <td id=\"T_faf32637_23de_11eb_af64_a0510bfbc0d8row2_col4\" class=\"data row2 col4\" >62.86</td>\n",
       "            </tr>\n",
       "            <tr>\n",
       "                        <th id=\"T_faf32637_23de_11eb_af64_a0510bfbc0d8level0_row3\" class=\"row_heading level0 row3\" >$645-675</th>\n",
       "                        <td id=\"T_faf32637_23de_11eb_af64_a0510bfbc0d8row3_col0\" class=\"data row3 col0\" >77.00</td>\n",
       "                        <td id=\"T_faf32637_23de_11eb_af64_a0510bfbc0d8row3_col1\" class=\"data row3 col1\" >81.03</td>\n",
       "                        <td id=\"T_faf32637_23de_11eb_af64_a0510bfbc0d8row3_col2\" class=\"data row3 col2\" >66.16</td>\n",
       "                        <td id=\"T_faf32637_23de_11eb_af64_a0510bfbc0d8row3_col3\" class=\"data row3 col3\" >81.13</td>\n",
       "                        <td id=\"T_faf32637_23de_11eb_af64_a0510bfbc0d8row3_col4\" class=\"data row3 col4\" >53.53</td>\n",
       "            </tr>\n",
       "    </tbody></table>"
      ],
      "text/plain": [
       "<pandas.io.formats.style.Styler at 0x17343a8f970>"
      ]
     },
     "execution_count": 271,
     "metadata": {},
     "output_type": "execute_result"
    }
   ],
   "source": [
    "# format mean scores by spending df\n",
    "mean_score.style.format({\n",
    "    \"Average Math Score\": \"{:,.2f}\",\n",
    "    \"Average Reading Score\": \"{:,.2f}\", \n",
    "    \"% Passing Math\": \"{:,.2f}\", \n",
    "    \"% Passing Reading\": \"{:,.2f}\", \n",
    "    \"% Overall Passing\": \"{:,.2f}\"\n",
    "})"
   ]
  },
  {
   "cell_type": "markdown",
   "metadata": {},
   "source": [
    "## Scores by School Size"
   ]
  },
  {
   "cell_type": "markdown",
   "metadata": {},
   "source": [
    "* Perform the same operations as above, based on school size."
   ]
  },
  {
   "cell_type": "code",
   "execution_count": 272,
   "metadata": {},
   "outputs": [],
   "source": [
    "# set bins \n",
    "bins = [0, 1000, 2000, 5000]\n",
    "# assign groups\n",
    "groups = [\"Small (<1,000)\", \"Medium (1,000-2,000)\", \"Large (2,000-5,000)\"]\n",
    "\n",
    "# add bins to df\n",
    "size_bins = pd.cut(summary_df['Total Students'], bins, labels=groups)\n",
    "summary_df[\"School Size\"] = size_bins\n",
    "size_scores = summary_df.set_index(\"School Size\")"
   ]
  },
  {
   "cell_type": "code",
   "execution_count": 273,
   "metadata": {},
   "outputs": [],
   "source": [
    "# print scores by size df\n",
    "size_scores_df = pd.DataFrame({\n",
    "    \"School Size\": size_bins, \n",
    "    \"Average Math Score\": school_avg_math,\n",
    "    \"Average Reading Score\": school_avg_reading, \n",
    "    \"% Passing Math\": school_percent_passing_math, \n",
    "    \"% Passing Reading\": school_percent_passing_reading, \n",
    "    \"% Overall Passing\": school_pass_percent\n",
    "})"
   ]
  },
  {
   "cell_type": "code",
   "execution_count": 287,
   "metadata": {},
   "outputs": [],
   "source": [
    "# set school size as index and groupby school size\n",
    "mean_score_size = size_scores_df.set_index(\"School Size\")\n",
    "mean_size_score = mean_score_size.groupby('School Size').mean()"
   ]
  },
  {
   "cell_type": "code",
   "execution_count": 275,
   "metadata": {},
   "outputs": [
    {
     "data": {
      "text/html": [
       "<style  type=\"text/css\" >\n",
       "</style><table id=\"T_fc04b3b2_23de_11eb_ac3f_a0510bfbc0d8\" ><thead>    <tr>        <th class=\"blank level0\" ></th>        <th class=\"col_heading level0 col0\" >Average Math Score</th>        <th class=\"col_heading level0 col1\" >Average Reading Score</th>        <th class=\"col_heading level0 col2\" >% Passing Math</th>        <th class=\"col_heading level0 col3\" >% Passing Reading</th>        <th class=\"col_heading level0 col4\" >% Overall Passing</th>    </tr>    <tr>        <th class=\"index_name level0\" >School Size</th>        <th class=\"blank\" ></th>        <th class=\"blank\" ></th>        <th class=\"blank\" ></th>        <th class=\"blank\" ></th>        <th class=\"blank\" ></th>    </tr></thead><tbody>\n",
       "                <tr>\n",
       "                        <th id=\"T_fc04b3b2_23de_11eb_ac3f_a0510bfbc0d8level0_row0\" class=\"row_heading level0 row0\" >Small (<1,000)</th>\n",
       "                        <td id=\"T_fc04b3b2_23de_11eb_ac3f_a0510bfbc0d8row0_col0\" class=\"data row0 col0\" >83.82</td>\n",
       "                        <td id=\"T_fc04b3b2_23de_11eb_ac3f_a0510bfbc0d8row0_col1\" class=\"data row0 col1\" >83.93</td>\n",
       "                        <td id=\"T_fc04b3b2_23de_11eb_ac3f_a0510bfbc0d8row0_col2\" class=\"data row0 col2\" >93.55</td>\n",
       "                        <td id=\"T_fc04b3b2_23de_11eb_ac3f_a0510bfbc0d8row0_col3\" class=\"data row0 col3\" >96.10</td>\n",
       "                        <td id=\"T_fc04b3b2_23de_11eb_ac3f_a0510bfbc0d8row0_col4\" class=\"data row0 col4\" >89.88</td>\n",
       "            </tr>\n",
       "            <tr>\n",
       "                        <th id=\"T_fc04b3b2_23de_11eb_ac3f_a0510bfbc0d8level0_row1\" class=\"row_heading level0 row1\" >Medium (1,000-2,000)</th>\n",
       "                        <td id=\"T_fc04b3b2_23de_11eb_ac3f_a0510bfbc0d8row1_col0\" class=\"data row1 col0\" >83.37</td>\n",
       "                        <td id=\"T_fc04b3b2_23de_11eb_ac3f_a0510bfbc0d8row1_col1\" class=\"data row1 col1\" >83.86</td>\n",
       "                        <td id=\"T_fc04b3b2_23de_11eb_ac3f_a0510bfbc0d8row1_col2\" class=\"data row1 col2\" >93.60</td>\n",
       "                        <td id=\"T_fc04b3b2_23de_11eb_ac3f_a0510bfbc0d8row1_col3\" class=\"data row1 col3\" >96.79</td>\n",
       "                        <td id=\"T_fc04b3b2_23de_11eb_ac3f_a0510bfbc0d8row1_col4\" class=\"data row1 col4\" >90.62</td>\n",
       "            </tr>\n",
       "            <tr>\n",
       "                        <th id=\"T_fc04b3b2_23de_11eb_ac3f_a0510bfbc0d8level0_row2\" class=\"row_heading level0 row2\" >Large (2,000-5,000)</th>\n",
       "                        <td id=\"T_fc04b3b2_23de_11eb_ac3f_a0510bfbc0d8row2_col0\" class=\"data row2 col0\" >77.75</td>\n",
       "                        <td id=\"T_fc04b3b2_23de_11eb_ac3f_a0510bfbc0d8row2_col1\" class=\"data row2 col1\" >81.34</td>\n",
       "                        <td id=\"T_fc04b3b2_23de_11eb_ac3f_a0510bfbc0d8row2_col2\" class=\"data row2 col2\" >69.96</td>\n",
       "                        <td id=\"T_fc04b3b2_23de_11eb_ac3f_a0510bfbc0d8row2_col3\" class=\"data row2 col3\" >82.77</td>\n",
       "                        <td id=\"T_fc04b3b2_23de_11eb_ac3f_a0510bfbc0d8row2_col4\" class=\"data row2 col4\" >58.29</td>\n",
       "            </tr>\n",
       "    </tbody></table>"
      ],
      "text/plain": [
       "<pandas.io.formats.style.Styler at 0x17343a915b0>"
      ]
     },
     "execution_count": 275,
     "metadata": {},
     "output_type": "execute_result"
    }
   ],
   "source": [
    "# format mean scores by size df\n",
    "mean_size_score.style.format({\n",
    "    \"Average Math Score\": \"{:,.2f}\",\n",
    "    \"Average Reading Score\": \"{:,.2f}\", \n",
    "    \"% Passing Math\": \"{:,.2f}\", \n",
    "    \"% Passing Reading\": \"{:,.2f}\", \n",
    "    \"% Overall Passing\": \"{:,.2f}\"\n",
    "})"
   ]
  },
  {
   "cell_type": "markdown",
   "metadata": {},
   "source": [
    "## Scores by School Type"
   ]
  },
  {
   "cell_type": "markdown",
   "metadata": {},
   "source": [
    "* Perform the same operations as above, based on school type"
   ]
  },
  {
   "cell_type": "code",
   "execution_count": 290,
   "metadata": {},
   "outputs": [],
   "source": [
    "# print scores by type scores df\n",
    "type_scores_df = pd.DataFrame({\n",
    "    \"School Type\": summary_df['School Type'],\n",
    "    \"Average Math Score\": school_avg_math,\n",
    "    \"Average Reading Score\": school_avg_reading, \n",
    "    \"% Passing Math\": school_percent_passing_math, \n",
    "    \"% Passing Reading\": school_percent_passing_reading, \n",
    "    \"% Overall Passing\": school_pass_percent\n",
    "})"
   ]
  },
  {
   "cell_type": "code",
   "execution_count": 288,
   "metadata": {},
   "outputs": [],
   "source": [
    "# set spending range as index and groupby spending\n",
    "mean_score_type = type_scores_df.set_index(\"School Type\")\n",
    "mean_type_score = mean_score_type.groupby('School Type').mean()"
   ]
  },
  {
   "cell_type": "code",
   "execution_count": 289,
   "metadata": {},
   "outputs": [
    {
     "data": {
      "text/html": [
       "<style  type=\"text/css\" >\n",
       "</style><table id=\"T_05b12c8d_23e0_11eb_9c4b_a0510bfbc0d8\" ><thead>    <tr>        <th class=\"blank level0\" ></th>        <th class=\"col_heading level0 col0\" >Average Math Score</th>        <th class=\"col_heading level0 col1\" >Average Reading Score</th>        <th class=\"col_heading level0 col2\" >% Passing Math</th>        <th class=\"col_heading level0 col3\" >% Passing Reading</th>        <th class=\"col_heading level0 col4\" >% Overall Passing</th>    </tr>    <tr>        <th class=\"index_name level0\" >School Type</th>        <th class=\"blank\" ></th>        <th class=\"blank\" ></th>        <th class=\"blank\" ></th>        <th class=\"blank\" ></th>        <th class=\"blank\" ></th>    </tr></thead><tbody>\n",
       "                <tr>\n",
       "                        <th id=\"T_05b12c8d_23e0_11eb_9c4b_a0510bfbc0d8level0_row0\" class=\"row_heading level0 row0\" >Charter</th>\n",
       "                        <td id=\"T_05b12c8d_23e0_11eb_9c4b_a0510bfbc0d8row0_col0\" class=\"data row0 col0\" >83.47</td>\n",
       "                        <td id=\"T_05b12c8d_23e0_11eb_9c4b_a0510bfbc0d8row0_col1\" class=\"data row0 col1\" >83.90</td>\n",
       "                        <td id=\"T_05b12c8d_23e0_11eb_9c4b_a0510bfbc0d8row0_col2\" class=\"data row0 col2\" >93.62</td>\n",
       "                        <td id=\"T_05b12c8d_23e0_11eb_9c4b_a0510bfbc0d8row0_col3\" class=\"data row0 col3\" >96.59</td>\n",
       "                        <td id=\"T_05b12c8d_23e0_11eb_9c4b_a0510bfbc0d8row0_col4\" class=\"data row0 col4\" >90.43</td>\n",
       "            </tr>\n",
       "            <tr>\n",
       "                        <th id=\"T_05b12c8d_23e0_11eb_9c4b_a0510bfbc0d8level0_row1\" class=\"row_heading level0 row1\" >District</th>\n",
       "                        <td id=\"T_05b12c8d_23e0_11eb_9c4b_a0510bfbc0d8row1_col0\" class=\"data row1 col0\" >76.96</td>\n",
       "                        <td id=\"T_05b12c8d_23e0_11eb_9c4b_a0510bfbc0d8row1_col1\" class=\"data row1 col1\" >80.97</td>\n",
       "                        <td id=\"T_05b12c8d_23e0_11eb_9c4b_a0510bfbc0d8row1_col2\" class=\"data row1 col2\" >66.55</td>\n",
       "                        <td id=\"T_05b12c8d_23e0_11eb_9c4b_a0510bfbc0d8row1_col3\" class=\"data row1 col3\" >80.80</td>\n",
       "                        <td id=\"T_05b12c8d_23e0_11eb_9c4b_a0510bfbc0d8row1_col4\" class=\"data row1 col4\" >53.67</td>\n",
       "            </tr>\n",
       "    </tbody></table>"
      ],
      "text/plain": [
       "<pandas.io.formats.style.Styler at 0x17343e02ac0>"
      ]
     },
     "execution_count": 289,
     "metadata": {},
     "output_type": "execute_result"
    }
   ],
   "source": [
    "# format mean type scores df\n",
    "mean_type_score.style.format({\n",
    "    \"Average Math Score\": \"{:,.2f}\",\n",
    "    \"Average Reading Score\": \"{:,.2f}\", \n",
    "    \"% Passing Math\": \"{:,.2f}\", \n",
    "    \"% Passing Reading\": \"{:,.2f}\", \n",
    "    \"% Overall Passing\": \"{:,.2f}\"\n",
    "})"
   ]
  }
 ],
 "metadata": {
  "anaconda-cloud": {},
  "kernel_info": {
   "name": "python3"
  },
  "kernelspec": {
   "display_name": "Python 3",
   "language": "python",
   "name": "python3"
  },
  "language_info": {
   "codemirror_mode": {
    "name": "ipython",
    "version": 3
   },
   "file_extension": ".py",
   "mimetype": "text/x-python",
   "name": "python",
   "nbconvert_exporter": "python",
   "pygments_lexer": "ipython3",
   "version": "3.8.3"
  },
  "latex_envs": {
   "LaTeX_envs_menu_present": true,
   "autoclose": false,
   "autocomplete": true,
   "bibliofile": "biblio.bib",
   "cite_by": "apalike",
   "current_citInitial": 1,
   "eqLabelWithNumbers": true,
   "eqNumInitial": 1,
   "hotkeys": {
    "equation": "Ctrl-E",
    "itemize": "Ctrl-I"
   },
   "labels_anchors": false,
   "latex_user_defs": false,
   "report_style_numbering": false,
   "user_envs_cfg": false
  },
  "nteract": {
   "version": "0.8.4"
  }
 },
 "nbformat": 4,
 "nbformat_minor": 1
}
